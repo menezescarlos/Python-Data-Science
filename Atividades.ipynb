{
  "nbformat": 4,
  "nbformat_minor": 0,
  "metadata": {
    "colab": {
      "provenance": [],
      "authorship_tag": "ABX9TyOA7OAso4oLgLnTBhUCvfef",
      "include_colab_link": true
    },
    "kernelspec": {
      "name": "python3",
      "display_name": "Python 3"
    },
    "language_info": {
      "name": "python"
    }
  },
  "cells": [
    {
      "cell_type": "markdown",
      "metadata": {
        "id": "view-in-github",
        "colab_type": "text"
      },
      "source": [
        "<a href=\"https://colab.research.google.com/github/menezescarlos/Python-Data-Science/blob/main/Atividades.ipynb\" target=\"_parent\"><img src=\"https://colab.research.google.com/assets/colab-badge.svg\" alt=\"Open In Colab\"/></a>"
      ]
    },
    {
      "cell_type": "code",
      "execution_count": null,
      "metadata": {
        "colab": {
          "base_uri": "https://localhost:8080/"
        },
        "id": "wSyq969CskWA",
        "outputId": "ddf812fa-0d32-4fc9-d8c0-b633797a8c47"
      },
      "outputs": [
        {
          "output_type": "stream",
          "name": "stdout",
          "text": [
            "Nome: carlos\n",
            "Sobrenome: menezes de oliveira\n"
          ]
        }
      ],
      "source": [
        "print('Nome: ' + 'carlos')\n",
        "print('Sobrenome: ' + 'menezes de oliveira' )\n"
      ]
    },
    {
      "cell_type": "code",
      "source": [
        "print('c')\n",
        "print('a')\n",
        "print('r')\n",
        "print('l')\n",
        "print('o')\n",
        "print('s')"
      ],
      "metadata": {
        "colab": {
          "base_uri": "https://localhost:8080/"
        },
        "id": "EJJJUWZ3soKa",
        "outputId": "58726569-04c5-4f63-9ced-32b5b4ecf46f"
      },
      "execution_count": null,
      "outputs": [
        {
          "output_type": "stream",
          "name": "stdout",
          "text": [
            "c\n",
            "a\n",
            "r\n",
            "l\n",
            "o\n",
            "s\n"
          ]
        }
      ]
    },
    {
      "cell_type": "code",
      "source": [
        "print('Ano Atual:',2023)"
      ],
      "metadata": {
        "colab": {
          "base_uri": "https://localhost:8080/"
        },
        "id": "qPYbkYEyt6XR",
        "outputId": "d8f99299-5d8d-4aec-8a4e-4001a6bc2301"
      },
      "execution_count": null,
      "outputs": [
        {
          "output_type": "stream",
          "name": "stdout",
          "text": [
            "Ano Atual: 2023\n"
          ]
        }
      ]
    },
    {
      "cell_type": "code",
      "source": [
        "i = 5\n",
        "type(i)"
      ],
      "metadata": {
        "colab": {
          "base_uri": "https://localhost:8080/"
        },
        "id": "c1eaX5UwvDda",
        "outputId": "11f09697-f960-4755-f566-b86e226f2e01"
      },
      "execution_count": null,
      "outputs": [
        {
          "output_type": "execute_result",
          "data": {
            "text/plain": [
              "int"
            ]
          },
          "metadata": {},
          "execution_count": 12
        }
      ]
    },
    {
      "cell_type": "code",
      "source": [
        "nome_aluno = 'Fabricio Daniel'\n",
        "idade_aluno = 15\n",
        "media_aluno = 8.45\n",
        "situacao_aprovado = True\n",
        "print(nome_aluno, idade_aluno, media_aluno, situacao_aprovado)\n",
        "type(nome_aluno)\n",
        "type(idade_aluno)\n",
        "type(media_aluno)\n",
        "type(situacao_aprovado)"
      ],
      "metadata": {
        "colab": {
          "base_uri": "https://localhost:8080/"
        },
        "id": "3Ru7ZTP8vWHY",
        "outputId": "821915f1-3a32-476c-d470-da43de9fee88"
      },
      "execution_count": null,
      "outputs": [
        {
          "output_type": "stream",
          "name": "stdout",
          "text": [
            "Fabricio Daniel 15 8.45 True\n"
          ]
        },
        {
          "output_type": "execute_result",
          "data": {
            "text/plain": [
              "bool"
            ]
          },
          "metadata": {},
          "execution_count": 19
        }
      ]
    },
    {
      "cell_type": "code",
      "source": [
        "data_compra = '10/07/2004'\n",
        "type(data_compra)"
      ],
      "metadata": {
        "colab": {
          "base_uri": "https://localhost:8080/"
        },
        "id": "cih2iUahwbpJ",
        "outputId": "2fbafed6-b165-457e-d1c7-03b04912ec9f"
      },
      "execution_count": null,
      "outputs": [
        {
          "output_type": "execute_result",
          "data": {
            "text/plain": [
              "str"
            ]
          },
          "metadata": {},
          "execution_count": 22
        }
      ]
    },
    {
      "cell_type": "code",
      "source": [
        "q_seguranca = 5\n",
        "s_seguranca = 3000\n",
        "\n",
        "q_docente = 16\n",
        "s_docente = 6000\n",
        "\n",
        "q_diretoria = 1\n",
        "s_diretoria = 12500\n",
        "\n",
        "print(s_seguranca + s_docente + s_diretoria)\n",
        "print(q_seguranca * s_seguranca)\n",
        "print(s_docente / q_docente)\n",
        "print(s_diretoria - s_docente)\n"
      ],
      "metadata": {
        "colab": {
          "base_uri": "https://localhost:8080/"
        },
        "id": "Pgf356TjwxFb",
        "outputId": "cfd16795-9d4f-47e2-98d8-463ab8f48d3a"
      },
      "execution_count": null,
      "outputs": [
        {
          "output_type": "stream",
          "name": "stdout",
          "text": [
            "21500\n",
            "15000\n",
            "375.0\n",
            "6500\n"
          ]
        }
      ]
    },
    {
      "cell_type": "code",
      "source": [
        "nome = input('Escreva seu nome: ')\n"
      ],
      "metadata": {
        "colab": {
          "base_uri": "https://localhost:8080/"
        },
        "id": "uG99W9oy1HK_",
        "outputId": "34d9cf53-426f-4ec1-c4a2-fb9a14d11f92"
      },
      "execution_count": null,
      "outputs": [
        {
          "name": "stdout",
          "output_type": "stream",
          "text": [
            "Escreva seu nome: Carlos\n"
          ]
        }
      ]
    },
    {
      "cell_type": "code",
      "source": [
        "ano_entrada = int(input('Escreva o ano de ingresso do(a) estudante:  '))\n",
        "\n"
      ],
      "metadata": {
        "colab": {
          "base_uri": "https://localhost:8080/"
        },
        "id": "tfE7AELw1uqk",
        "outputId": "a21df3b2-b86f-425e-e3d0-0ba19085298e"
      },
      "execution_count": null,
      "outputs": [
        {
          "name": "stdout",
          "output_type": "stream",
          "text": [
            "Escreva o ano de ingresso do(a) estudante:  1988\n"
          ]
        }
      ]
    },
    {
      "cell_type": "code",
      "source": [
        "nota_entrada = float(input('Digite a nota do teste de ingresso: '))\n",
        "print(f'Ano de entrada {ano_entrada} - nota do teste de ingresso {nota_entrada}')\n"
      ],
      "metadata": {
        "colab": {
          "base_uri": "https://localhost:8080/"
        },
        "id": "OF7NtUPB2iH8",
        "outputId": "9114ff68-8266-490f-a6b4-cbdf0f5fe585"
      },
      "execution_count": null,
      "outputs": [
        {
          "output_type": "stream",
          "name": "stdout",
          "text": [
            "Digite a nota do teste de ingresso: 8\n",
            "Ano de entrada 1988 - nota do teste de ingresso 8.0\n"
          ]
        }
      ]
    },
    {
      "cell_type": "code",
      "source": [
        "nome = \"Ana Maria\"\n",
        "idade = 17\n",
        "print(f\"O nome da aluna é {nome} e sua idade é {idade} anos.\")\n"
      ],
      "metadata": {
        "colab": {
          "base_uri": "https://localhost:8080/"
        },
        "id": "74OR3BGS4FYD",
        "outputId": "9e0f63a9-b675-4df4-eed3-8b09ee280151"
      },
      "execution_count": null,
      "outputs": [
        {
          "output_type": "stream",
          "name": "stdout",
          "text": [
            "O nome da aluna é Ana Maria e sua idade é 17 anos.\n"
          ]
        }
      ]
    },
    {
      "cell_type": "code",
      "source": [
        "nome = input(\"olá,  nome: \")\n"
      ],
      "metadata": {
        "colab": {
          "base_uri": "https://localhost:8080/"
        },
        "id": "xALC_Oco48gW",
        "outputId": "438a7f34-a7e5-4380-cfc7-1b8174078099"
      },
      "execution_count": null,
      "outputs": [
        {
          "name": "stdout",
          "output_type": "stream",
          "text": [
            "olá,  nome: carlos\n"
          ]
        }
      ]
    },
    {
      "cell_type": "code",
      "source": [
        "nome = input(\"Olá, Nome: \")\n",
        "idade = input(\"Idade: \")\n",
        "\n",
        "print(f\"Nome {nome} Idade {idade}\")"
      ],
      "metadata": {
        "colab": {
          "base_uri": "https://localhost:8080/"
        },
        "id": "XCb4az3R5VPN",
        "outputId": "a44f8b39-058f-4557-c537-e0b18ae88ae3"
      },
      "execution_count": null,
      "outputs": [
        {
          "output_type": "stream",
          "name": "stdout",
          "text": [
            "Olá, Nome: carlos\n",
            "Idade: 35\n",
            "Nome carlos Idade 35\n"
          ]
        }
      ]
    },
    {
      "cell_type": "code",
      "source": [
        "nome = input(\"Olá, Nome: \")\n",
        "idade = input(\"Idade: \")\n",
        "metros = input(\"Metros: \")\n",
        "\n",
        "print(f\"Nome: {nome} Idade: {idade} Metros: {metros}\")"
      ],
      "metadata": {
        "colab": {
          "base_uri": "https://localhost:8080/"
        },
        "id": "K6nSj5df6SJ1",
        "outputId": "0289808d-c5f2-42b6-add2-693ebd92f884"
      },
      "execution_count": null,
      "outputs": [
        {
          "output_type": "stream",
          "name": "stdout",
          "text": [
            "Olá, Nome: carlos\n",
            "Idade: 35\n",
            "Metros: 1.80\n",
            "Nome: carlos Idade: 35 Metros: 1.80\n"
          ]
        }
      ]
    },
    {
      "cell_type": "code",
      "source": [
        "valor1 = int(input(\"valor 1: \"))\n",
        "valor2 = int(input(\"valor 2: \"))\n",
        "\n",
        "print(valor1 + valor2)\n"
      ],
      "metadata": {
        "colab": {
          "base_uri": "https://localhost:8080/"
        },
        "id": "72DYoGfo6_Rk",
        "outputId": "39c35546-9de6-4e67-b5cb-672105a6b449"
      },
      "execution_count": null,
      "outputs": [
        {
          "output_type": "stream",
          "name": "stdout",
          "text": [
            "valor 1: 2\n",
            "valor 2: 3\n",
            "5\n"
          ]
        }
      ]
    },
    {
      "cell_type": "code",
      "source": [
        "valor1 = int(input(\"valor 1: \"))\n",
        "valor2 = int(input(\"valor 2: \"))\n",
        "valor3 = int(input(\"valor 3: \"))\n",
        "\n",
        "print(valor1 + valor2 + valor3)"
      ],
      "metadata": {
        "colab": {
          "base_uri": "https://localhost:8080/"
        },
        "id": "QI6kw3lC7BXW",
        "outputId": "2a99207a-2536-482a-c02d-290cf9f1120d"
      },
      "execution_count": null,
      "outputs": [
        {
          "output_type": "stream",
          "name": "stdout",
          "text": [
            "valor 1: 3\n",
            "valor 2: 4\n",
            "valor 3: 5\n",
            "12\n"
          ]
        }
      ]
    },
    {
      "cell_type": "code",
      "source": [
        "valor1 = int(input(\"valor 1: \"))\n",
        "valor2 = int(input(\"valor 2: \"))\n",
        "\n",
        "print(valor1 - valor2)\n"
      ],
      "metadata": {
        "colab": {
          "base_uri": "https://localhost:8080/"
        },
        "id": "9lSTwCth7DHD",
        "outputId": "b4be864e-724e-45bf-ca81-fcf21236a984"
      },
      "execution_count": null,
      "outputs": [
        {
          "output_type": "stream",
          "name": "stdout",
          "text": [
            "valor 1: 5\n",
            "valor 2: 4\n",
            "1\n"
          ]
        }
      ]
    },
    {
      "cell_type": "code",
      "source": [
        "valor1 = int(input(\"valor 1: \"))\n",
        "valor2 = int(input(\"valor 2: \"))\n",
        "\n",
        "print(valor1 * valor2)\n"
      ],
      "metadata": {
        "colab": {
          "base_uri": "https://localhost:8080/"
        },
        "id": "92gkJCOj7FkM",
        "outputId": "24144e1f-2fc7-4722-c88e-731c9a8a4b8b"
      },
      "execution_count": null,
      "outputs": [
        {
          "output_type": "stream",
          "name": "stdout",
          "text": [
            "valor 1: 4\n",
            "valor 2: 3\n",
            "12\n"
          ]
        }
      ]
    },
    {
      "cell_type": "code",
      "source": [
        "valor1 = int(input(\"valor 1: \"))\n",
        "valor2 = int(input(\"valor 2 diferente de zero: \"))\n",
        "\n",
        "print(valor1 / valor2)\n"
      ],
      "metadata": {
        "colab": {
          "base_uri": "https://localhost:8080/"
        },
        "id": "6FnhzISf7Hdq",
        "outputId": "b5765acf-4280-4042-b949-46c62b097525"
      },
      "execution_count": null,
      "outputs": [
        {
          "output_type": "stream",
          "name": "stdout",
          "text": [
            "valor 1: 3\n",
            "valor 2 diferente de zero: 4\n",
            "0.75\n"
          ]
        }
      ]
    },
    {
      "cell_type": "code",
      "source": [
        "valor1 = int(input(\"valor 1: \"))\n",
        "valor2 = int(input(\"valor 2 diferente de zero: \"))\n",
        "\n",
        "print(valor1 ** valor2)\n"
      ],
      "metadata": {
        "colab": {
          "base_uri": "https://localhost:8080/"
        },
        "id": "HQ--mDRv7JTS",
        "outputId": "03aa730d-8ccb-4f07-eef9-ddfac27c4f35"
      },
      "execution_count": null,
      "outputs": [
        {
          "output_type": "stream",
          "name": "stdout",
          "text": [
            "valor 1: 2\n",
            "valor 2 diferente de zero: 3\n",
            "8\n"
          ]
        }
      ]
    },
    {
      "cell_type": "code",
      "source": [
        "valor1 = int(input(\"valor 1: \"))\n",
        "valor2 = int(input(\"valor 2 diferente de zero: \"))\n",
        "\n",
        "print(valor1 // valor2)"
      ],
      "metadata": {
        "colab": {
          "base_uri": "https://localhost:8080/"
        },
        "id": "uDTSAMb07MCs",
        "outputId": "8a02e9b7-cc96-4e16-e829-1b3a42184fd5"
      },
      "execution_count": null,
      "outputs": [
        {
          "output_type": "stream",
          "name": "stdout",
          "text": [
            "valor 1: 8\n",
            "valor 2 diferente de zero: 4\n",
            "2\n"
          ]
        }
      ]
    },
    {
      "cell_type": "code",
      "source": [
        "valor1 = int(input(\"valor 1: \"))\n",
        "valor2 = int(input(\"valor 2 diferente de zero: \"))\n",
        "\n",
        "print(valor1 % valor2)"
      ],
      "metadata": {
        "colab": {
          "base_uri": "https://localhost:8080/"
        },
        "id": "wydMQMWG7PBb",
        "outputId": "d7a1f1f2-6aaf-475b-d560-16d15fd98188"
      },
      "execution_count": null,
      "outputs": [
        {
          "output_type": "stream",
          "name": "stdout",
          "text": [
            "valor 1: 3\n",
            "valor 2 diferente de zero: 4\n",
            "3\n"
          ]
        }
      ]
    },
    {
      "cell_type": "code",
      "source": [
        "nota1 = int(input(\"Nota 1: \"))\n",
        "nota2 = int(input(\"Nota 2: \"))\n",
        "nota3 = int(input(\"Nota 3: \"))\n",
        "\n",
        "print((nota1 + nota2 + nota3) / 3)\n"
      ],
      "metadata": {
        "colab": {
          "base_uri": "https://localhost:8080/"
        },
        "id": "EskFHpZA7Qu5",
        "outputId": "062fd244-841e-4fe1-be9d-7c147cebed2e"
      },
      "execution_count": null,
      "outputs": [
        {
          "output_type": "stream",
          "name": "stdout",
          "text": [
            "Nota 1: 3\n",
            "Nota 2: 4\n",
            "Nota 3: 3\n",
            "3.3333333333333335\n"
          ]
        }
      ]
    },
    {
      "cell_type": "code",
      "source": [
        "nota1 = 5\n",
        "peso1 = 1\n",
        "\n",
        "nota2 = 12\n",
        "peso2 = 2\n",
        "\n",
        "nota3 = 20\n",
        "peso3 = 3\n",
        "\n",
        "nota4 = 15\n",
        "peso4 = 4\n",
        "\n",
        "# calcula média\n",
        "media = (nota1*peso1 + nota2*peso2 + nota3*peso3 + nota4*peso4) / (peso1+peso2+peso3+peso4)\n",
        "\n",
        "# imprime a média\n",
        "print(\"Média: \",media)\n",
        "type(media)"
      ],
      "metadata": {
        "colab": {
          "base_uri": "https://localhost:8080/"
        },
        "id": "0H0MGrK67SVs",
        "outputId": "3b0c2db4-8a2d-489d-8bfe-3706d19e1085"
      },
      "execution_count": null,
      "outputs": [
        {
          "output_type": "stream",
          "name": "stdout",
          "text": [
            "Média:  14.9\n"
          ]
        },
        {
          "output_type": "execute_result",
          "data": {
            "text/plain": [
              "float"
            ]
          },
          "metadata": {},
          "execution_count": 52
        }
      ]
    },
    {
      "cell_type": "code",
      "source": [
        "frase = 'carlos menezes'\n",
        "print(frase)"
      ],
      "metadata": {
        "colab": {
          "base_uri": "https://localhost:8080/"
        },
        "id": "AYZPWWFX7ZNf",
        "outputId": "66cd150f-47ae-485f-90b8-9ffc4588ec78"
      },
      "execution_count": null,
      "outputs": [
        {
          "output_type": "stream",
          "name": "stdout",
          "text": [
            "carlos menezes\n"
          ]
        }
      ]
    },
    {
      "cell_type": "code",
      "source": [
        "frase = input('Digite uma frase: ')\n",
        "print(frase)"
      ],
      "metadata": {
        "colab": {
          "base_uri": "https://localhost:8080/"
        },
        "id": "YUdjq57G7bsP",
        "outputId": "dcbdb54e-d719-4f5a-b994-12eeaf526ff2"
      },
      "execution_count": null,
      "outputs": [
        {
          "output_type": "stream",
          "name": "stdout",
          "text": [
            "Digite uma frase: Carlos é o melhor\n",
            "Carlos é o melhor\n"
          ]
        }
      ]
    },
    {
      "cell_type": "code",
      "source": [
        "frase = input('Digite uma frase: ')\n",
        "print(frase.upper())"
      ],
      "metadata": {
        "id": "e5sQ7x6l7duD",
        "colab": {
          "base_uri": "https://localhost:8080/"
        },
        "outputId": "c598d8ef-867f-4a96-d7a6-20490a621bb4"
      },
      "execution_count": null,
      "outputs": [
        {
          "output_type": "stream",
          "name": "stdout",
          "text": [
            "Digite uma frase: carlos menezes de oliveira\n",
            "CARLOS MENEZES DE OLIVEIRA\n"
          ]
        }
      ]
    },
    {
      "cell_type": "code",
      "source": [
        "frase = input('Digite uma frase: ')\n",
        "print(frase.lower())"
      ],
      "metadata": {
        "id": "nKq2VRz17fih",
        "colab": {
          "base_uri": "https://localhost:8080/"
        },
        "outputId": "103abdb7-9c27-4e63-ef78-6616e77ee8db"
      },
      "execution_count": null,
      "outputs": [
        {
          "output_type": "stream",
          "name": "stdout",
          "text": [
            "Digite uma frase: CARLOS MENEZES DE OLIVEIRA\n",
            "carlos menezes de oliveira\n"
          ]
        }
      ]
    },
    {
      "cell_type": "code",
      "source": [
        "frase = ' Digite '\n",
        "print(frase.strip())"
      ],
      "metadata": {
        "id": "5yDBnuta7hdT",
        "colab": {
          "base_uri": "https://localhost:8080/"
        },
        "outputId": "c9ed90a1-7321-4127-cd0a-3179a16d956f"
      },
      "execution_count": null,
      "outputs": [
        {
          "output_type": "stream",
          "name": "stdout",
          "text": [
            "Digite\n"
          ]
        }
      ]
    },
    {
      "cell_type": "code",
      "source": [
        "frase = input(' Digite uma frase: ')\n",
        "print(frase.strip().lower())"
      ],
      "metadata": {
        "id": "lyK4TrbK7jZt",
        "colab": {
          "base_uri": "https://localhost:8080/"
        },
        "outputId": "b5598c36-fa65-477b-b74b-afed55c3e3d4"
      },
      "execution_count": null,
      "outputs": [
        {
          "output_type": "stream",
          "name": "stdout",
          "text": [
            " Digite uma frase: carlos menezes\n",
            "carlos menezes\n"
          ]
        }
      ]
    },
    {
      "cell_type": "code",
      "source": [
        "frase = input(' Digite uma frase: ')\n",
        "print(frase.strip())"
      ],
      "metadata": {
        "id": "qkPDPYtO7lAi",
        "colab": {
          "base_uri": "https://localhost:8080/"
        },
        "outputId": "2d505351-da63-4b60-8f2e-7a985de990bd"
      },
      "execution_count": null,
      "outputs": [
        {
          "output_type": "stream",
          "name": "stdout",
          "text": [
            " Digite uma frase: CARLOS MENEZES\n",
            "CARLOS MENEZES\n"
          ]
        }
      ]
    },
    {
      "cell_type": "code",
      "source": [
        "frase = input(' Digite uma frase: ')\n",
        "print(frase.strip().replace('e','f'))"
      ],
      "metadata": {
        "id": "p_i7VCoq7mmd",
        "colab": {
          "base_uri": "https://localhost:8080/"
        },
        "outputId": "123e1584-fbfd-41ff-d96f-f74bbf2aa7c4"
      },
      "execution_count": null,
      "outputs": [
        {
          "output_type": "stream",
          "name": "stdout",
          "text": [
            " Digite uma frase: frase\n",
            "frasf\n"
          ]
        }
      ]
    },
    {
      "cell_type": "code",
      "source": [
        "frase = input(' Digite uma frase: ')\n",
        "print(frase.strip().replace('a','@'))"
      ],
      "metadata": {
        "id": "64f_4OcP7oWy",
        "colab": {
          "base_uri": "https://localhost:8080/"
        },
        "outputId": "b16f7e3b-4aa7-47c3-aa82-2ec83f850249"
      },
      "execution_count": null,
      "outputs": [
        {
          "output_type": "stream",
          "name": "stdout",
          "text": [
            " Digite uma frase: frase\n",
            "fr@se\n"
          ]
        }
      ]
    },
    {
      "cell_type": "code",
      "source": [
        "frase = input(' Digite uma frase: ')\n",
        "print(frase.strip().replace('s','$'))"
      ],
      "metadata": {
        "id": "arvq1RKm7p17",
        "colab": {
          "base_uri": "https://localhost:8080/"
        },
        "outputId": "4e3a0019-6d79-471e-dd2d-d267528083c2"
      },
      "execution_count": null,
      "outputs": [
        {
          "output_type": "stream",
          "name": "stdout",
          "text": [
            " Digite uma frase: frase\n",
            "fra$e\n"
          ]
        }
      ]
    },
    {
      "cell_type": "code",
      "source": [
        "idade_maria = int(input(\"Digite a idade de Maria: \"))\n",
        "idade_ana = int(input(\"Digite a idade de Ana: \"))\n",
        "\n",
        "if idade_maria > idade_ana:\n",
        " print (\"Maria é Mai velha\")\n",
        "else: print (\"Ana é mais velha\")"
      ],
      "metadata": {
        "colab": {
          "base_uri": "https://localhost:8080/"
        },
        "id": "k0qJ_28u_7Cd",
        "outputId": "99d36f30-1bbd-4ab2-bbe6-b713dc9319c1"
      },
      "execution_count": null,
      "outputs": [
        {
          "output_type": "stream",
          "name": "stdout",
          "text": [
            "Digite a idade de Maria: 9\n",
            "Digite a idade de Ana: 10\n",
            "Ana é mais velha\n"
          ]
        }
      ]
    },
    {
      "cell_type": "code",
      "source": [
        "#1) Escreva um programa que peça à pessoa usuária para fornecer dois números e exibir o número maior.\n",
        "\n",
        "numero_um = int(input(\"Digite o numero 1: \"))\n",
        "numero_dois = int(input(\"Digite o numro 2: \"))\n",
        "\n",
        "if numero_um > numero_dois:\n",
        "  print(f\"numero um é maior {numero_um}\")\n",
        "else:\n",
        "  print(f\"numero dois é maior {numero_dois}\")\n",
        "\n"
      ],
      "metadata": {
        "colab": {
          "base_uri": "https://localhost:8080/"
        },
        "id": "N_6oq5BUHKF8",
        "outputId": "209ca194-292d-4d2c-e85a-552a2594ddff"
      },
      "execution_count": null,
      "outputs": [
        {
          "output_type": "stream",
          "name": "stdout",
          "text": [
            "Digite o numero 1: 5\n",
            "Digite o numro 2: 6\n",
            "numero dois é maior 6\n"
          ]
        }
      ]
    },
    {
      "cell_type": "code",
      "source": [
        "#2) Escreva um programa que solicite o percentual de crescimento de produção de uma empresa e informe se houve um crescimento (porcentagem positiva) ou decrescimento (porcentagem negativa).\n",
        "\n",
        "numero_crescimento = float(input(\"Digite o percentual de crescimento: \"))\n",
        "\n",
        "if numero_crescimento > 0:\n",
        "  print(\"Crescimento positivo\")\n",
        "else:\n",
        "  print(\"Crescimento negativo\")\n"
      ],
      "metadata": {
        "colab": {
          "base_uri": "https://localhost:8080/"
        },
        "id": "XANU94NYHOvj",
        "outputId": "3cbfc83b-3752-4901-e534-55daed6009bc"
      },
      "execution_count": null,
      "outputs": [
        {
          "output_type": "stream",
          "name": "stdout",
          "text": [
            "Digite o percentual de crescimento: -10.2\n",
            "Crescimento negativo\n"
          ]
        }
      ]
    },
    {
      "cell_type": "code",
      "source": [
        "#3) Escreva um programa que determine se uma letra fornecida pela pessoa usuária é uma vogal ou consoante.\n",
        "\n",
        "letra = str(input(\"Digite uma letra: \"))\n",
        "\n",
        "if letra == \"a\":\n",
        "  print(\"Vogal\")\n",
        "elif letra == \"e\":\n",
        "  print(\"Vogal\")\n",
        "elif letra == \"i\":\n",
        "  print(\"Vogal\")\n",
        "elif letra == \"o\":\n",
        "  print(\"Vogal\")\n",
        "elif letra == \"u\":\n",
        "  print(\"Vogal\")\n",
        "else:\n",
        "  print(\"Consoante\")\n",
        "\n"
      ],
      "metadata": {
        "colab": {
          "base_uri": "https://localhost:8080/"
        },
        "id": "s6V2ynfYHUBR",
        "outputId": "58cd6208-eaef-42f6-ba76-b420da0d9aba"
      },
      "execution_count": null,
      "outputs": [
        {
          "output_type": "stream",
          "name": "stdout",
          "text": [
            "Digite uma letra: j\n",
            "Consoante\n"
          ]
        }
      ]
    },
    {
      "cell_type": "code",
      "source": [
        "#4) Escreva um programa que leia valores médios de preços de um modelo de carro por 3 anos consecutivos e exiba o valor mais alto e mais baixo entre esses três anos.\n",
        "\n",
        "valor_ano1 = float(input(\"Digite um valor de carro: \"))\n",
        "valor_ano2 = float(input(\"Digite um valor de carro: \"))\n",
        "valor_ano3 = float(input(\"Digite um valor de carro: \"))\n",
        "\n",
        "if valor_ano1 > valor_ano2:\n",
        "\n"
      ],
      "metadata": {
        "id": "m2f_a3ptHYSS"
      },
      "execution_count": null,
      "outputs": []
    },
    {
      "cell_type": "code",
      "source": [
        "#5) Escreva um programa que pergunte sobre o preço de três produtos e indique qual é o produto mais barato para comprar.\n",
        "\n"
      ],
      "metadata": {
        "id": "4z-deAI0Hb24"
      },
      "execution_count": null,
      "outputs": []
    },
    {
      "cell_type": "code",
      "source": [
        "#6) Escreva um programa que leia três números e os exiba em ordem decrescente.\n",
        "\n"
      ],
      "metadata": {
        "id": "AEjmHkw0Hfx9"
      },
      "execution_count": null,
      "outputs": []
    },
    {
      "cell_type": "code",
      "source": [
        "#7) Escreva um programa que pergunte em qual turno a pessoa usuária estuda (\"manhã\", \"tarde\" ou \"noite\") e exiba a mensagem \"Bom Dia!\", \"Boa Tarde!\", \"Boa Noite!\", ou \"Valor Inválido!\", conforme o caso.\n",
        "\n"
      ],
      "metadata": {
        "id": "Tw_wS-nvHjFv"
      },
      "execution_count": null,
      "outputs": []
    },
    {
      "cell_type": "code",
      "source": [
        "#8) Escreva um programa que peça um número inteiro à pessoa usuária e determine se ele é par ou ímpar. Dica: Você pode utilizar o operador módulo %.\n",
        "\n"
      ],
      "metadata": {
        "id": "KhCaveeIHnXx"
      },
      "execution_count": null,
      "outputs": []
    },
    {
      "cell_type": "code",
      "source": [
        "#9) Escreva um programa que peça um número à pessoa usuária e informe se ele é inteiro ou decimal.\n",
        "\n"
      ],
      "metadata": {
        "id": "nQEzOormHpFi"
      },
      "execution_count": null,
      "outputs": []
    },
    {
      "cell_type": "code",
      "source": [
        "Momento dos projetos\n",
        "10) Um programa deve ser escrito para ler dois números e, em seguida, perguntar à pessoa usuária qual operação ele deseja realizar. O resultado da operação deve incluir informações sobre o número - se é par ou ímpar, positivo ou negativo e inteiro ou decimal.\n",
        "\n"
      ],
      "metadata": {
        "id": "A4TECp-SHrNg"
      },
      "execution_count": null,
      "outputs": []
    },
    {
      "cell_type": "code",
      "source": [
        "11) Escreva um programa que peça à pessoa usuária três números que representam os lados de um triângulo. O programa deve informar se os valores podem ser utilizados para formar um triângulo e, caso afirmativo, se ele é equilátero, isósceles ou escaleno. Tenha em mente algumas dicas:\n",
        "\n",
        "Três lados formam um triângulo quando a soma de quaisquer dois lados for maior que o terceiro;\n",
        "Triângulo Equilátero: três lados iguais;\n",
        "Triângulo Isósceles: quaisquer dois lados iguais;\n",
        "Triângulo Escaleno: três lados diferentes.\n"
      ],
      "metadata": {
        "id": "CYpfUVmYHuY7"
      },
      "execution_count": null,
      "outputs": []
    },
    {
      "cell_type": "code",
      "source": [
        "12) Um estabelecimento está vendendo combustíveis com descontos variados. Para o etanol, se a quantidade comprada for até 15 litros, o desconto será de 2% por litro. Caso contrário, será de 4% por litro. Para o diesel, se a quantidade comprada for até 15 litros, o desconto será de 3% por litro. Caso contrário, será de 5% por litro. O preço do litro de diesel é R$ 2,00 e o preço do litro de etanol é R$ 1,70. Escreva um programa que leia a quantidade de litros vendidos e o tipo de combustível (E para etanol e D para diesel) e calcule o valor a ser pago pelo cliente. Tenha em mente algumas dicas:\n",
        "\n",
        "O do valor do desconto será a multiplicação entre preço do litro, quantidade de litros e o valor do desconto.\n",
        "O valor a ser pago por um cliente será o resultado da multiplicação do preço do litro pela quantidade de litros menos o valor de desconto resultante do cálculo.\n"
      ],
      "metadata": {
        "id": "qepRZrYxHwkk"
      },
      "execution_count": null,
      "outputs": []
    },
    {
      "cell_type": "code",
      "source": [
        "13) Em uma empresa de venda de imóveis você precisa criar um código que analise os dados de vendas anuais para ajudar a diretoria na tomada de decisão. O código precisa coletar os dados de quantidade de venda durante os anos de 2022 e 2023 e fazer um cálculo de variação percentual. A partir do valor da variação, deve ser enviada às seguintes sugestões:\n",
        "\n",
        "Para variação acima de 20%: bonificação para o time de vendas.\n",
        "Para variação entre 2% e 20%: pequena bonificação para time de vendas.\n",
        "Para variação entre 2% e -10%: planejamento de políticas de incentivo às vendas.\n",
        "Para bonificações abaixo de -10%: corte de gastos.\n",
        "Caso precise de ajuda, opções de solução das atividades estarão disponíveis na seção “Opinião da pessoa instrutora”."
      ],
      "metadata": {
        "id": "ZWkxyoVPHy0Z"
      },
      "execution_count": null,
      "outputs": []
    },
    {
      "cell_type": "code",
      "source": [
        "Aquecendo na programação\n",
        "1) Escreva um programa que peça dois números inteiros e imprima todos os números inteiros entre eles.\n",
        "\n"
      ],
      "metadata": {
        "id": "I8f3Lcc9hCkI"
      },
      "execution_count": null,
      "outputs": []
    },
    {
      "cell_type": "code",
      "source": [
        "2) Escreva um programa para calcular quantos dias levará para a colônia de uma bactéria A ultrapassar ou igualar a colônia de uma bactéria B, com base nas taxas de crescimento de 3% e 1,5% respectivamente. Considere que a colônia A inicia com 4 elementos e a B com 10.\n",
        "\n"
      ],
      "metadata": {
        "id": "ggXCp8gGhHar"
      },
      "execution_count": null,
      "outputs": []
    },
    {
      "cell_type": "code",
      "source": [
        "3) Para tratar uma quantidade de 15 dados de avaliações de pessoas usuárias de um serviço da empresa, precisamos verificar se as notas são válidas. Então, escreva um programa que vai receber a nota de 0 a 5 de todos os dados e verificar se é um valor válido. Caso seja inserido uma nota acima de 5 ou abaixo de 0, repita até que a pessoa usuária insira um valor válido.\n",
        "\n"
      ],
      "metadata": {
        "id": "8B39njozhK7_"
      },
      "execution_count": null,
      "outputs": []
    },
    {
      "cell_type": "code",
      "source": [
        "4) Desenvolva um programa que leia um conjunto indeterminado de temperaturas em Celsius e informe a média delas. A leitura deve ser encerrada ao ser enviado o valor -273°C.\n",
        "\n"
      ],
      "metadata": {
        "id": "-p38BwbEhQbQ"
      },
      "execution_count": null,
      "outputs": []
    },
    {
      "cell_type": "code",
      "source": [
        "5) Escreva um programa que calcule o fatorial de um número inteiro fornecido pela pessoa usuária. Lembrando que o fatorial de um número inteiro é a multiplicação desse número por todos os seus antecessores até o número 1. Por exemplo, o fatorial de 5 é 5 x 4 x 3 x 2 x 1 = 120.\n",
        "\n"
      ],
      "metadata": {
        "id": "GZeBcplVhUjT"
      },
      "execution_count": null,
      "outputs": []
    },
    {
      "cell_type": "code",
      "source": [
        "Momento dos projetos\n",
        "6) Escreva um programa que gere a tabuada de um número inteiro de 1 a 10, de acordo com a escolha da pessoa usuária. Como exemplo, para o número 2, a tabuada deve ser mostrada no seguinte formato:\n",
        "\n",
        "Tabuada do 2:\n",
        "2 x 1 = 2\n",
        "2 x 2 = 4\n",
        "[...]\n",
        "2 x 10 = 20\n",
        "COPIAR CÓDIGO\n"
      ],
      "metadata": {
        "id": "GRwXkNdUhVzX"
      },
      "execution_count": null,
      "outputs": []
    },
    {
      "cell_type": "code",
      "source": [
        "7) Os números primos possuem várias aplicações dentro da Ciência de Dados em criptografia e segurança, por exemplo. Um número primo é aquele que é divisível apenas por um e por ele mesmo. Assim, faça um programa que peça um número inteiro e determine se ele é ou não um número primo.\n",
        "\n"
      ],
      "metadata": {
        "id": "J6zm9t7mhbh6"
      },
      "execution_count": null,
      "outputs": []
    },
    {
      "cell_type": "code",
      "source": [
        "8) Vamos entender a distribuição de idades de pensionistas de uma empresa de previdência. Escreva um programa que leia as idades de uma quantidade não informada de clientes e mostre a distribuição em intervalos de [0-25], [26-50], [51-75] e [76-100]. Encerre a entrada de dados com um número negativo.\n",
        "\n"
      ],
      "metadata": {
        "id": "PvbHNMMlhd0H"
      },
      "execution_count": null,
      "outputs": []
    },
    {
      "cell_type": "code",
      "source": [
        "9) Em uma eleição para gerência em uma empresa com 20 pessoas colaboradoras, existem quatro candidatos(as). Escreva um programa que calcule o(a) vencedor(a) da eleição. A votação ocorreu da seguinte maneira:\n",
        "\n",
        "Cada colaborador(a) votou em uma das quatro pessoas candidatas (que representamos pelos números 1, 2, 3 e 4).\n",
        "Também foram contabilizados os votos nulos (representados pelo número 5) e os votos em branco (representados pelo número 6).\n",
        "Ao final da votação, o programa deve exibir o número total de votos para cada candidato(a), os nulos e os votos em branco. Além disso, deve calcular e exibir a porcentagem de votos nulos em relação ao total de votos e a porcentagem de votos em branco em relação ao total de votos."
      ],
      "metadata": {
        "id": "HIT_hvCYhf2p"
      },
      "execution_count": null,
      "outputs": []
    },
    {
      "cell_type": "code",
      "source": [
        "Aquecendo na programação\n",
        "1) Faça um programa que tenha a seguinte lista contendo os valores de gastos de uma empresa de papel [2172.54, 3701.35, 3518.09, 3456.61, 3249.38, 2840.82, 3891.45, 3075.26, 2317.64, 3219.08]. Com esses valores, faça um programa que calcule a média de gastos. Dica: use as funções built-in sum() e len().\n",
        "\n"
      ],
      "metadata": {
        "id": "YIn-UTLJhocT"
      },
      "execution_count": null,
      "outputs": []
    },
    {
      "cell_type": "code",
      "source": [
        "2) Com os mesmos dados da questão anterior, defina quantas compras foram realizadas acima de 3000 reais e calcule a porcentagem quanto ao total de compras.\n",
        "\n"
      ],
      "metadata": {
        "id": "FcBmpXirhrDB"
      },
      "execution_count": null,
      "outputs": []
    },
    {
      "cell_type": "code",
      "source": [
        "3) Faça um código que colete em uma lista 5 números inteiros quaisquer e imprima a lista. Exemplo: [1,4,7,2,4].\n",
        "\n"
      ],
      "metadata": {
        "id": "HbphJf2Uhtma"
      },
      "execution_count": null,
      "outputs": []
    },
    {
      "cell_type": "code",
      "source": [
        "4) Colete novamente 5 inteiros e imprima a lista em ordem inversa à enviada.\n",
        "\n"
      ],
      "metadata": {
        "id": "agGO3u0jhvSE"
      },
      "execution_count": null,
      "outputs": []
    },
    {
      "cell_type": "code",
      "source": [
        "5) Faça um programa que, ao inserir um número qualquer, cria uma lista contendo todos os números primos entre 1 e o número digitado.\n",
        "\n"
      ],
      "metadata": {
        "id": "_CTYoEc0hxH5"
      },
      "execution_count": null,
      "outputs": []
    },
    {
      "cell_type": "code",
      "source": [
        "6) Escreva um programa que peça uma data informando o dia, mês e ano e determine se ela é válida para uma análise.\n",
        "\n"
      ],
      "metadata": {
        "id": "GpOWedjYhzQp"
      },
      "execution_count": null,
      "outputs": []
    },
    {
      "cell_type": "code",
      "source": [
        "Momento dos projetos\n",
        "7) Para um estudo envolvendo o nível de multiplicação de bactérias em uma colônia, foi coletado o número de bactérias multiplicadas por dia e pode ser observado a seguir: [1.2, 2.1, 3.3, 5.0, 7.8, 11.3, 16.6, 25.1, 37.8, 56.9]. Tendo esses valores, faça um código que gere uma lista contendo o percentual de crescimento de bactérias por dia, comparando o número de bactérias em cada dia com o número de bactérias do dia anterior. Dica: para calcular o percentual de crescimento usamos a seguinte equação: 100 * (amostra_atual - amostra_passada) / (amostra_passada).\n",
        "\n"
      ],
      "metadata": {
        "id": "iKJ6AY6Xh1zI"
      },
      "execution_count": null,
      "outputs": []
    },
    {
      "cell_type": "code",
      "source": [
        "8) Para uma seleção de produtos alimentícios, precisamos separar o conjunto de IDs dados por números inteiros sabendo que os produtos com ID par são doces e os com ID ímpar são amargos. Monte um código que colete 10 IDs. Depois, calcule e mostre a quantidade de produtos doces e amargos.\n",
        "\n"
      ],
      "metadata": {
        "id": "UY_7LxXZh39f"
      },
      "execution_count": null,
      "outputs": []
    },
    {
      "cell_type": "code",
      "source": [
        "9) Desenvolva um programa que informa a nota de um(a) aluno(a) de acordo com suas respostas. Ele deve pedir a resposta desse(a) aluno(a) para cada questão e é preciso verificar se a resposta foi igual ao gabarito. Cada questão vale um ponto e existem as alternativas A, B, C ou D.\n",
        "\n",
        "Gabarito da prova:\n",
        "01 - D\n",
        "02 - A\n",
        "03 - C\n",
        "04 - B\n",
        "05 - A\n",
        "06 - D\n",
        "07 - C\n",
        "08 - C\n",
        "09 - A\n",
        "10 - B\n",
        "COPIAR CÓDIGO\n"
      ],
      "metadata": {
        "id": "cO3BPjd1h5xx"
      },
      "execution_count": null,
      "outputs": []
    },
    {
      "cell_type": "code",
      "source": [
        "10) Um instituto de meteorologia deseja fazer um estudo de temperatura média de cada mês do ano. Para isso, você precisa fazer um código que colete e armazene essas temperaturas médias em uma lista. Depois, calcule a média anual das temperaturas e mostre todas as temperaturas acima da média anual e em que mês elas ocorreram, mostrando os meses por extenso (Janeiro, Fevereiro, etc.).\n",
        "\n"
      ],
      "metadata": {
        "id": "yNHwpg1rh81F"
      },
      "execution_count": null,
      "outputs": []
    },
    {
      "cell_type": "code",
      "source": [
        "11) Uma empresa de e-commerce está interessada em analisar as vendas dos seus produtos. Os dados das vendas foram armazenados em um dicionário:\n",
        "\n",
        "{'Produto A': 300, 'Produto B': 80, 'Produto C': 60,\n",
        " 'Produto D': 200, 'Produto E': 250, 'Produto F': 30}\n",
        "COPIAR CÓDIGO\n",
        "Escreva um código que calcule o total de vendas e o produto mais vendido.\n",
        "\n"
      ],
      "metadata": {
        "id": "hG2gVH0wh-zo"
      },
      "execution_count": null,
      "outputs": []
    },
    {
      "cell_type": "code",
      "source": [
        "12) Uma pesquisa de mercado foi feita para decidir qual design de marca infantil mais agrada as crianças. A pesquisa foi feita e o votos computados podem ser observados abaixo:\n",
        "\n",
        "'''\n",
        "Tabela de votos da marca\n",
        "Design 1 - 1334 votos\n",
        "Design 2 - 982 votos\n",
        "Design 3 - 1751 votos\n",
        "Design 4 - 210 votos\n",
        "Design 5 - 1811 votos\n",
        "'''\n",
        "COPIAR CÓDIGO\n",
        "Adapte os dados fornecidos para uma estrutura de dicionário. A partir dele, informe o design vencedor e a porcentagem de votos recebidos.\n"
      ],
      "metadata": {
        "id": "AJmzgF7NiCfB"
      },
      "execution_count": null,
      "outputs": []
    },
    {
      "cell_type": "code",
      "source": [
        "\n",
        "13) As pessoas colaboradoras de um setor da empresa que você trabalha vão receber um abono correspondente a 10% do salário devido ao ótimo desempenho do time. O setor financeiro solicitou sua ajuda para a verificação das consequências financeiras que esse abono irá gerar nos recursos. Assim, foi encaminhada para você uma lista com os salários que receberão o abono: [1172, 1644, 2617, 5130, 5532, 6341, 6650, 7238, 7685, 7782, 7903]. O abono de cada colaborador(a) não pode ser inferior a 200. Em código, transforme cada um dos salários em chaves de um dicionário e o abono de cada salário no elemento. Depois, informe o total de gastos com o abono, quantos(as) colaboradores(as) receberam o abono mínimo e qual o maior valor de abono fornecido.\n",
        "\n"
      ],
      "metadata": {
        "id": "-Ia7oLAiiFcg"
      },
      "execution_count": null,
      "outputs": []
    },
    {
      "cell_type": "code",
      "source": [
        "14) Uma equipe de cientistas de dados está estudando a diversidade biológica em uma floresta. A equipe fez a coleta de informações sobre o número de espécies de plantas e animais em cada área dessa floresta e armazenou essas informações em um dicionário. Nele, a chave descreve a área dos dados e os valores nas listas correspondem às espécies de plantas e animais nas áreas, respectivamente.\n",
        "\n",
        "{'Área Norte': [2819, 7236],\n",
        " 'Área Leste': [1440, 9492],\n",
        " 'Área Sul': [5969, 7496],\n",
        " 'Área Oeste': [14446, 49688],\n",
        " 'Área Centro': [22558, 45148]}\n",
        "COPIAR CÓDIGO\n",
        "Escreva um código para calcular a média de espécies por área e identificar a área com a maior diversidade biológica. Dica: use as funções built-in sum() e len().\n"
      ],
      "metadata": {
        "id": "1WO62XoBiG4D"
      },
      "execution_count": null,
      "outputs": []
    },
    {
      "cell_type": "code",
      "source": [
        "\n",
        "15) O setor de RH da sua empresa te pediu uma ajuda para analisar as idades de colaboradores(as) de 4 setores da empresa. Para isso, foram fornecidos os seguintes dados:\n",
        "\n",
        "{'Setor A': [22, 26, 30, 30, 35, 38, 40, 56, 57, 65],\n",
        " 'Setor B': [22, 24, 26, 33, 41, 49, 50, 54, 60, 64],\n",
        " 'Setor C': [23, 26, 26, 29, 34, 35, 36, 41, 52, 56],\n",
        " 'Setor D': [19, 20, 25, 27, 34, 39, 42, 44, 50, 65]}\n",
        "COPIAR CÓDIGO\n",
        "Sabendo que cada setor tem 10 colaboradores(as), construa um código que calcule a média de idade de cada setor, a idade média geral entre todos os setores e quantas pessoas estão acima da idade média geral.\n",
        "\n"
      ],
      "metadata": {
        "id": "kg_Nat0JiIeV"
      },
      "execution_count": null,
      "outputs": []
    }
  ]
}